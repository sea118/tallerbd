{
 "cells": [
  {
   "cell_type": "code",
   "execution_count": 12,
   "metadata": {},
   "outputs": [
    {
     "name": "stdout",
     "output_type": "stream",
     "text": [
      "Guinevere\n",
      "Lancelot\n",
      "Merlin\n",
      "jorge\n"
     ]
    }
   ],
   "source": [
    "from neo4j.v1 import GraphDatabase\n",
    "\n",
    "driver = GraphDatabase.driver(\"bolt://localhost:7687\",\n",
    "\n",
    "                              auth=(\"neo4j\", \"123\"))\n",
    "\n",
    "def add_friends(tx, name, friend_name):\n",
    "\n",
    "    tx.run(\"MERGE (p:Persona {name: $name}) \"\n",
    "\n",
    "           \"MERGE (f:Persona {name: $friend_name}) \"\n",
    "\n",
    "           \"MERGE (p)-[:KNOWS]-(f)\",\n",
    "\n",
    "           name=name, friend_name=friend_name)\n",
    "\n",
    "def print_friends(tx, name):\n",
    "\n",
    "    for record in tx.run(\n",
    "\n",
    "          \"MATCH (a:Persona)-[:KNOWS]->(friend) WHERE a.name = $name \"\n",
    "\n",
    "          \"RETURN friend.name ORDER BY friend.name\", name=name):\n",
    "\n",
    "        print(record[\"friend.name\"])\n",
    "\n",
    "with driver.session() as session:\n",
    "\n",
    "    session.write_transaction(\n",
    "\n",
    "      lambda tx:\n",
    "\n",
    "        tx.run(\"create constraint on (p:Persona) assert p.name is unique\"))\n",
    "    session.write_transaction(add_friends, \"Arthur\", \"Guinevere\")\n",
    "\n",
    "    session.write_transaction(add_friends, \"Arthur\", \"Lancelot\")\n",
    "\n",
    "    session.write_transaction(add_friends, \"Arthur\", \"Merlin\")\n",
    "    session.write_transaction(add_friends, \"Arthur\", \"jorge\")\n",
    "\n",
    "    session.read_transaction(print_friends, \"Arthur\")\n"
   ]
  },
  {
   "cell_type": "code",
   "execution_count": 11,
   "metadata": {},
   "outputs": [],
   "source": [
    "with driver.session() as session:\n",
    "\n",
    "    session.write_transaction(\n",
    "\n",
    "      lambda tx:\n",
    "\n",
    "        tx.run(\"create constraint on (p:Persona) assert p.name is unique\"))\n",
    "    session.write_transaction(add_friends, \"Fernando\", \"Jorge G\")\n",
    "    session.write_transaction(add_friends, \"Fernando\", \"Fabian\")\n",
    "    session.write_transaction(add_friends, \"Fernando\", \"Elard\")\n"
   ]
  },
  {
   "cell_type": "code",
   "execution_count": 18,
   "metadata": {},
   "outputs": [],
   "source": [
    "driver.session().write_transaction(add_friends, \"Fernando\", \"Camila\")\n",
    "driver.session().write_transaction(add_friends, \"Camila\", \"Daniel\")\n",
    "driver.session().write_transaction(add_friends, \"Daniel\", \"Jorge G\")\n",
    "driver.session().write_transaction(add_friends, \"Elard\", \"Jorge G\")\n"
   ]
  },
  {
   "cell_type": "markdown",
   "metadata": {},
   "source": [
    "<img src=\"imagen.png\"></img>"
   ]
  },
  {
   "cell_type": "code",
   "execution_count": 26,
   "metadata": {},
   "outputs": [
    {
     "name": "stdout",
     "output_type": "stream",
     "text": [
      "Camila\n",
      "Elard\n",
      "Fabian\n",
      "Jorge G\n"
     ]
    }
   ],
   "source": [
    "driver.session().read_transaction(print_friends, \"Fernando\")"
   ]
  },
  {
   "cell_type": "code",
   "execution_count": 27,
   "metadata": {},
   "outputs": [],
   "source": [
    "driver.session().write_transaction(add_friends, \"Fernando\", \"Arthur\")\n"
   ]
  },
  {
   "cell_type": "code",
   "execution_count": 28,
   "metadata": {},
   "outputs": [
    {
     "name": "stdout",
     "output_type": "stream",
     "text": [
      "Arthur\n",
      "Camila\n",
      "Elard\n",
      "Fabian\n",
      "Jorge G\n"
     ]
    }
   ],
   "source": [
    "driver.session().read_transaction(print_friends, \"Fernando\")"
   ]
  },
  {
   "cell_type": "markdown",
   "metadata": {},
   "source": [
    "<img src=\"2.png\"></img>"
   ]
  },
  {
   "cell_type": "code",
   "execution_count": 98,
   "metadata": {},
   "outputs": [
    {
     "name": "stdout",
     "output_type": "stream",
     "text": [
      "Arthur\n",
      "Camila\n",
      "Daniel\n",
      "Elard\n",
      "Fabian\n",
      "Fernando\n",
      "Guinevere\n",
      "Jorge G\n",
      "Lancelot\n",
      "Merlin\n",
      "jorge\n"
     ]
    }
   ],
   "source": [
    "con=driver.session().run(\"MATCH (a:Persona) RETURN a.name ORDER BY a.name\")\n",
    "for record in con:\n",
    "    print (record[\"a.name\"])"
   ]
  }
 ],
 "metadata": {
  "kernelspec": {
   "display_name": "Python 3",
   "language": "python",
   "name": "python3"
  },
  "language_info": {
   "codemirror_mode": {
    "name": "ipython",
    "version": 3
   },
   "file_extension": ".py",
   "mimetype": "text/x-python",
   "name": "python",
   "nbconvert_exporter": "python",
   "pygments_lexer": "ipython3",
   "version": "3.6.3"
  }
 },
 "nbformat": 4,
 "nbformat_minor": 2
}
